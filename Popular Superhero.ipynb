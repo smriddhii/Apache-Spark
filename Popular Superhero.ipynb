{
 "cells": [
  {
   "cell_type": "code",
   "execution_count": 1,
   "id": "c86319c1",
   "metadata": {},
   "outputs": [],
   "source": [
    "from pyspark.sql import SparkSession\n",
    "from pyspark.sql import functions as func"
   ]
  },
  {
   "cell_type": "code",
   "execution_count": 2,
   "id": "4b5562aa",
   "metadata": {},
   "outputs": [
    {
     "name": "stdout",
     "output_type": "stream",
     "text": [
      "23/04/19 23:35:10 WARN Utils: Your hostname, Smriddhis-MacBook-Pro.local resolves to a loopback address: 127.0.0.1; using 172.20.10.9 instead (on interface en0)\n",
      "23/04/19 23:35:10 WARN Utils: Set SPARK_LOCAL_IP if you need to bind to another address\n"
     ]
    },
    {
     "name": "stderr",
     "output_type": "stream",
     "text": [
      "Setting default log level to \"WARN\".\n",
      "To adjust logging level use sc.setLogLevel(newLevel). For SparkR, use setLogLevel(newLevel).\n"
     ]
    },
    {
     "name": "stdout",
     "output_type": "stream",
     "text": [
      "23/04/19 23:35:12 WARN NativeCodeLoader: Unable to load native-hadoop library for your platform... using builtin-java classes where applicable\n",
      "23/04/19 23:35:13 WARN Utils: Service 'SparkUI' could not bind on port 4040. Attempting port 4041.\n"
     ]
    }
   ],
   "source": [
    "spark = SparkSession.builder.appName(\"PopularSuperhero\").getOrCreate()"
   ]
  },
  {
   "cell_type": "code",
   "execution_count": 11,
   "id": "c4cbe385",
   "metadata": {},
   "outputs": [],
   "source": [
    "names = spark.read.option(\"sep\" , \" \").csv(\"Marvel+Names\")"
   ]
  },
  {
   "cell_type": "code",
   "execution_count": 12,
   "id": "824346cf",
   "metadata": {},
   "outputs": [],
   "source": [
    "lines = spark.read.text(\"Marvel+Graph\")"
   ]
  },
  {
   "cell_type": "code",
   "execution_count": 13,
   "id": "2fdfdaa2",
   "metadata": {},
   "outputs": [
    {
     "name": "stdout",
     "output_type": "stream",
     "text": [
      "+---+--------------------+\n",
      "|_c0|                 _c1|\n",
      "+---+--------------------+\n",
      "|  1|24-HOUR MAN/EMMANUEL|\n",
      "|  2|3-D MAN/CHARLES CHAN|\n",
      "|  3|    4-D MAN/MERCURIO|\n",
      "|  4|             8-BALL/|\n",
      "|  5|                   A|\n",
      "|  6|               A'YIN|\n",
      "|  7|        ABBOTT, JACK|\n",
      "|  8|             ABCISSA|\n",
      "|  9|                ABEL|\n",
      "| 10|ABOMINATION/EMIL BLO|\n",
      "| 11|ABOMINATION | MUTANT|\n",
      "| 12|         ABOMINATRIX|\n",
      "| 13|             ABRAXAS|\n",
      "| 14|          ADAM 3,031|\n",
      "| 15|             ABSALOM|\n",
      "| 16|ABSORBING MAN/CARL C|\n",
      "| 17|ABSORBING MAN | MUTA|\n",
      "| 18|                ACBA|\n",
      "| 19|ACHEBE, REVEREND DOC|\n",
      "| 20|            ACHILLES|\n",
      "+---+--------------------+\n",
      "only showing top 20 rows\n",
      "\n"
     ]
    }
   ],
   "source": [
    "names.show()"
   ]
  },
  {
   "cell_type": "code",
   "execution_count": 14,
   "id": "de88b71e",
   "metadata": {},
   "outputs": [
    {
     "name": "stdout",
     "output_type": "stream",
     "text": [
      "+--------------------+\n",
      "|               value|\n",
      "+--------------------+\n",
      "|5988 748 1722 375...|\n",
      "|5989 4080 4264 44...|\n",
      "|5982 217 595 1194...|\n",
      "|5983 1165 3836 43...|\n",
      "|5980 2731 3712 15...|\n",
      "|5981 3569 5353 40...|\n",
      "|5986 2658 3712 26...|\n",
      "|5987 2614 5716 17...|\n",
      "|5984 590 4898 745...|\n",
      "|5985 3233 2254 21...|\n",
      "|6294 4898 1127 32...|\n",
      "|270 2658 3003 380...|\n",
      "|271 4935 5716 430...|\n",
      "|272 2717 4363 408...|\n",
      "|273 1165 5013 511...|\n",
      "|274 3920 5310 402...|\n",
      "|275 4366 3373 158...|\n",
      "|276 2277 5251 480...|\n",
      "|277 1068 3495 619...|\n",
      "|278 1145 667 2650...|\n",
      "+--------------------+\n",
      "only showing top 20 rows\n",
      "\n"
     ]
    }
   ],
   "source": [
    "lines.show()"
   ]
  },
  {
   "cell_type": "code",
   "execution_count": 21,
   "id": "76ccf50c",
   "metadata": {},
   "outputs": [],
   "source": [
    "connections = lines.withColumn(\"id\", func.split(func.trim(func.col(\"value\")), \" \")[0]) \\\n",
    "    .withColumn(\"connections\", func.size(func.split(func.trim(func.col(\"value\")), \" \")) - 1) \\\n",
    "    .groupBy(\"id\").agg(func.sum(\"connections\").alias(\"connections\"))"
   ]
  },
  {
   "cell_type": "code",
   "execution_count": 25,
   "id": "fcee4da8",
   "metadata": {},
   "outputs": [],
   "source": [
    "mostPopular = connections.sort(func.col(\"connections\").desc()).first()"
   ]
  },
  {
   "cell_type": "code",
   "execution_count": 27,
   "id": "e3c02ed6",
   "metadata": {},
   "outputs": [],
   "source": [
    "mostPopularName = names.filter(func.col(\"_c0\") == mostPopular[0]).select(\"_c1\").first()"
   ]
  },
  {
   "cell_type": "code",
   "execution_count": 28,
   "id": "823e1766",
   "metadata": {},
   "outputs": [
    {
     "name": "stdout",
     "output_type": "stream",
     "text": [
      "CAPTAIN AMERICA is the most popular superhero with 1933 co-appearances.\n"
     ]
    }
   ],
   "source": [
    "print(mostPopularName[0] + \" is the most popular superhero with \" + str(mostPopular[1]) + \" co-appearances.\")"
   ]
  },
  {
   "cell_type": "code",
   "execution_count": null,
   "id": "040084bc",
   "metadata": {},
   "outputs": [],
   "source": []
  }
 ],
 "metadata": {
  "kernelspec": {
   "display_name": "Python 3 (ipykernel)",
   "language": "python",
   "name": "python3"
  },
  "language_info": {
   "codemirror_mode": {
    "name": "ipython",
    "version": 3
   },
   "file_extension": ".py",
   "mimetype": "text/x-python",
   "name": "python",
   "nbconvert_exporter": "python",
   "pygments_lexer": "ipython3",
   "version": "3.9.7"
  }
 },
 "nbformat": 4,
 "nbformat_minor": 5
}
