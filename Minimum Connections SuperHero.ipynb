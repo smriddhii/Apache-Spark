{
 "cells": [
  {
   "cell_type": "code",
   "execution_count": 17,
   "id": "9005bcd0",
   "metadata": {},
   "outputs": [],
   "source": [
    "from pyspark.sql import SparkSession\n",
    "from pyspark.sql import functions as func\n",
    "from pyspark.sql.types import StructType, StructField, IntegerType, StringType"
   ]
  },
  {
   "cell_type": "code",
   "execution_count": 3,
   "id": "05f2ef56",
   "metadata": {},
   "outputs": [
    {
     "name": "stdout",
     "output_type": "stream",
     "text": [
      "23/04/20 23:03:16 WARN SparkSession: Using an existing Spark session; only runtime SQL configurations will take effect.\n"
     ]
    }
   ],
   "source": [
    "spark = SparkSession.builder.appName(\"MinConnections\").getOrCreate()"
   ]
  },
  {
   "cell_type": "code",
   "execution_count": 18,
   "id": "0a45a36c",
   "metadata": {},
   "outputs": [],
   "source": [
    "schema = StructType([StructField(\"id\", IntegerType(), True), StructField(\"name\", StringType(), True)])"
   ]
  },
  {
   "cell_type": "code",
   "execution_count": 19,
   "id": "82424b3c",
   "metadata": {},
   "outputs": [],
   "source": [
    "names = spark.read.schema(schema).option(\"sep\" , \" \").csv(\"Marvel+Names\")"
   ]
  },
  {
   "cell_type": "code",
   "execution_count": 20,
   "id": "69f1f056",
   "metadata": {},
   "outputs": [],
   "source": [
    "lines = spark.read.text(\"Marvel+Graph\")"
   ]
  },
  {
   "cell_type": "code",
   "execution_count": 7,
   "id": "6b0ca5d5",
   "metadata": {},
   "outputs": [],
   "source": [
    "connections = lines.withColumn(\"id\", func.split(func.trim(func.col(\"value\")), \" \")[0]) \\\n",
    "    .withColumn(\"connections\", func.size(func.split(func.trim(func.col(\"value\")), \" \")) - 1) \\\n",
    "    .groupBy(\"id\").agg(func.sum(\"connections\").alias(\"connections\"))"
   ]
  },
  {
   "cell_type": "code",
   "execution_count": 8,
   "id": "41ee34b9",
   "metadata": {},
   "outputs": [
    {
     "name": "stderr",
     "output_type": "stream",
     "text": [
      "                                                                                \r"
     ]
    }
   ],
   "source": [
    "minConnectionCount = connections.agg(func.min(\"connections\")).first()[0]"
   ]
  },
  {
   "cell_type": "code",
   "execution_count": 9,
   "id": "4ddce227",
   "metadata": {},
   "outputs": [],
   "source": [
    "minConnections = connections.filter(func.col(\"connections\") == minConnectionCount)"
   ]
  },
  {
   "cell_type": "code",
   "execution_count": 21,
   "id": "a22f9573",
   "metadata": {},
   "outputs": [],
   "source": [
    "minConnectionNames = minConnections.join(names, \"id\")"
   ]
  },
  {
   "cell_type": "code",
   "execution_count": 22,
   "id": "74ed74f9",
   "metadata": {},
   "outputs": [
    {
     "name": "stdout",
     "output_type": "stream",
     "text": [
      "The following characters have only 0 connection(s): \n"
     ]
    }
   ],
   "source": [
    "print(\"The following characters have only \" + str(minConnectionCount) + \" connection(s): \")"
   ]
  },
  {
   "cell_type": "code",
   "execution_count": 23,
   "id": "c45f01ba",
   "metadata": {},
   "outputs": [
    {
     "name": "stdout",
     "output_type": "stream",
     "text": [
      "+--------------------+\n",
      "|                name|\n",
      "+--------------------+\n",
      "|        BERSERKER II|\n",
      "|              BLARE/|\n",
      "|MARVEL BOY II/MARTIN|\n",
      "|MARVEL BOY/MARTIN BU|\n",
      "|      GIURESCU, RADU|\n",
      "|       CLUMSY FOULUP|\n",
      "|              FENRIS|\n",
      "|              RANDAK|\n",
      "|           SHARKSKIN|\n",
      "|     CALLAHAN, DANNY|\n",
      "|         DEATHCHARGE|\n",
      "|                RUNE|\n",
      "|         SEA LEOPARD|\n",
      "|         RED WOLF II|\n",
      "|              ZANTOR|\n",
      "|JOHNSON, LYNDON BAIN|\n",
      "|          LUNATIK II|\n",
      "|                KULL|\n",
      "|GERVASE, LADY ALYSSA|\n",
      "+--------------------+\n",
      "\n"
     ]
    }
   ],
   "source": [
    "minConnectionNames.select(\"name\").show()"
   ]
  },
  {
   "cell_type": "code",
   "execution_count": null,
   "id": "82aa69c1",
   "metadata": {},
   "outputs": [],
   "source": []
  }
 ],
 "metadata": {
  "kernelspec": {
   "display_name": "Python 3 (ipykernel)",
   "language": "python",
   "name": "python3"
  },
  "language_info": {
   "codemirror_mode": {
    "name": "ipython",
    "version": 3
   },
   "file_extension": ".py",
   "mimetype": "text/x-python",
   "name": "python",
   "nbconvert_exporter": "python",
   "pygments_lexer": "ipython3",
   "version": "3.9.7"
  }
 },
 "nbformat": 4,
 "nbformat_minor": 5
}
