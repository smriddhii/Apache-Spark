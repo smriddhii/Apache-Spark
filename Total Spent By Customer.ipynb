{
 "cells": [
  {
   "cell_type": "code",
   "execution_count": 2,
   "id": "65b9870b",
   "metadata": {},
   "outputs": [],
   "source": [
    "from pyspark.sql import SparkSession\n",
    "from pyspark.sql import functions as func"
   ]
  },
  {
   "cell_type": "code",
   "execution_count": 3,
   "id": "c204a723",
   "metadata": {},
   "outputs": [
    {
     "name": "stderr",
     "output_type": "stream",
     "text": [
      "Setting default log level to \"WARN\".\n",
      "To adjust logging level use sc.setLogLevel(newLevel). For SparkR, use setLogLevel(newLevel).\n"
     ]
    },
    {
     "name": "stdout",
     "output_type": "stream",
     "text": [
      "23/04/16 15:35:59 WARN NativeCodeLoader: Unable to load native-hadoop library for your platform... using builtin-java classes where applicable\n",
      "23/04/16 15:36:00 WARN Utils: Service 'SparkUI' could not bind on port 4040. Attempting port 4041.\n",
      "23/04/16 15:36:00 WARN Utils: Service 'SparkUI' could not bind on port 4041. Attempting port 4042.\n"
     ]
    }
   ],
   "source": [
    "spark = SparkSession.builder.appName(\"TotalSpent\").getOrCreate()"
   ]
  },
  {
   "cell_type": "code",
   "execution_count": 4,
   "id": "8d2af4e7",
   "metadata": {},
   "outputs": [],
   "source": [
    "df = spark.read.csv(\"customer-orders.csv\")"
   ]
  },
  {
   "cell_type": "code",
   "execution_count": 8,
   "id": "fd0ece8d",
   "metadata": {},
   "outputs": [
    {
     "name": "stdout",
     "output_type": "stream",
     "text": [
      "+---+----+-----+\n",
      "|_c0| _c1|  _c2|\n",
      "+---+----+-----+\n",
      "| 44|8602|37.19|\n",
      "| 35|5368|65.89|\n",
      "|  2|3391|40.64|\n",
      "| 47|6694|14.98|\n",
      "| 29| 680|13.08|\n",
      "| 91|8900|24.59|\n",
      "| 70|3959|68.68|\n",
      "| 85|1733|28.53|\n",
      "| 53|9900|83.55|\n",
      "| 14|1505| 4.32|\n",
      "| 51|3378|19.80|\n",
      "| 42|6926|57.77|\n",
      "|  2|4424|55.77|\n",
      "| 79|9291|33.17|\n",
      "| 50|3901|23.57|\n",
      "| 20|6633| 6.49|\n",
      "| 15|6148|65.53|\n",
      "| 44|8331|99.19|\n",
      "|  5|3505|64.18|\n",
      "| 48|5539|32.42|\n",
      "+---+----+-----+\n",
      "only showing top 20 rows\n",
      "\n"
     ]
    }
   ],
   "source": [
    "df.show()"
   ]
  },
  {
   "cell_type": "code",
   "execution_count": 9,
   "id": "bbc8653e",
   "metadata": {},
   "outputs": [],
   "source": [
    "totalByCustomer = df.groupBy(\"_c0\").agg(func.round(func.sum(\"_c2\"),2).alias(\"total_spent\"))"
   ]
  },
  {
   "cell_type": "code",
   "execution_count": 10,
   "id": "0999db2b",
   "metadata": {},
   "outputs": [],
   "source": [
    "totalByCustomerSorted = totalByCustomer.sort(\"total_spent\")"
   ]
  },
  {
   "cell_type": "code",
   "execution_count": 11,
   "id": "4af8cf47",
   "metadata": {},
   "outputs": [
    {
     "name": "stderr",
     "output_type": "stream",
     "text": [
      "[Stage 8:>                                                          (0 + 1) / 1]\r"
     ]
    },
    {
     "name": "stdout",
     "output_type": "stream",
     "text": [
      "+---+-----------+\n",
      "|_c0|total_spent|\n",
      "+---+-----------+\n",
      "| 45|    3309.38|\n",
      "| 79|    3790.57|\n",
      "| 96|    3924.23|\n",
      "| 23|    4042.65|\n",
      "| 99|    4172.29|\n",
      "| 75|     4178.5|\n",
      "| 36|    4278.05|\n",
      "| 98|    4297.26|\n",
      "| 47|     4316.3|\n",
      "| 77|    4327.73|\n",
      "| 13|    4367.62|\n",
      "| 48|    4384.33|\n",
      "| 49|     4394.6|\n",
      "| 94|    4475.57|\n",
      "| 67|    4505.79|\n",
      "| 50|    4517.27|\n",
      "| 78|    4524.51|\n",
      "|  5|    4561.07|\n",
      "| 57|     4628.4|\n",
      "| 83|     4635.8|\n",
      "| 91|    4642.26|\n",
      "| 74|    4647.13|\n",
      "| 84|    4652.94|\n",
      "|  3|    4659.63|\n",
      "| 12|    4664.59|\n",
      "| 66|    4681.92|\n",
      "| 56|    4701.02|\n",
      "| 21|    4707.41|\n",
      "| 80|    4727.86|\n",
      "| 14|    4735.03|\n",
      "| 37|     4735.2|\n",
      "|  7|    4755.07|\n",
      "| 44|    4756.89|\n",
      "| 31|    4765.05|\n",
      "| 82|    4812.49|\n",
      "|  4|    4815.05|\n",
      "| 10|     4819.7|\n",
      "| 88|    4830.55|\n",
      "| 20|    4836.86|\n",
      "| 89|    4851.48|\n",
      "| 95|    4876.84|\n",
      "| 38|    4898.46|\n",
      "| 76|    4904.21|\n",
      "| 86|    4908.81|\n",
      "| 27|    4915.89|\n",
      "| 18|    4921.27|\n",
      "| 53|     4945.3|\n",
      "|  1|     4958.6|\n",
      "| 51|    4975.22|\n",
      "| 16|    4979.06|\n",
      "| 30|    4990.72|\n",
      "| 28|    5000.71|\n",
      "| 22|    5019.45|\n",
      "| 29|    5032.53|\n",
      "| 17|    5032.68|\n",
      "| 60|    5040.71|\n",
      "| 25|    5057.61|\n",
      "| 19|    5059.43|\n",
      "| 81|    5112.71|\n",
      "| 69|    5123.01|\n",
      "| 65|    5140.35|\n",
      "| 11|    5152.29|\n",
      "| 35|    5155.42|\n",
      "| 40|    5186.43|\n",
      "| 87|     5206.4|\n",
      "| 52|    5245.06|\n",
      "| 26|     5250.4|\n",
      "| 62|    5253.32|\n",
      "| 33|    5254.66|\n",
      "| 24|    5259.92|\n",
      "| 93|    5265.75|\n",
      "| 64|    5288.69|\n",
      "| 90|    5290.41|\n",
      "| 55|    5298.09|\n",
      "|  9|    5322.65|\n",
      "| 34|     5330.8|\n",
      "| 72|    5337.44|\n",
      "| 70|    5368.25|\n",
      "| 43|    5368.83|\n",
      "| 92|    5379.28|\n",
      "|  6|    5397.88|\n",
      "| 15|    5413.51|\n",
      "| 63|    5415.15|\n",
      "| 58|    5437.73|\n",
      "| 32|    5496.05|\n",
      "| 61|    5497.48|\n",
      "| 85|    5503.43|\n",
      "|  8|    5517.24|\n",
      "|  0|    5524.95|\n",
      "| 41|    5637.62|\n",
      "| 59|    5642.89|\n",
      "| 42|    5696.84|\n",
      "| 46|    5963.11|\n",
      "| 97|    5977.19|\n",
      "|  2|    5994.59|\n",
      "| 71|    5995.66|\n",
      "| 54|    6065.39|\n",
      "| 39|    6193.11|\n",
      "| 73|     6206.2|\n",
      "| 68|    6375.45|\n",
      "+---+-----------+\n",
      "\n"
     ]
    },
    {
     "name": "stderr",
     "output_type": "stream",
     "text": [
      "                                                                                \r"
     ]
    }
   ],
   "source": [
    "totalByCustomerSorted.show(totalByCustomerSorted.count())"
   ]
  },
  {
   "cell_type": "code",
   "execution_count": null,
   "id": "331bcb6a",
   "metadata": {},
   "outputs": [],
   "source": []
  }
 ],
 "metadata": {
  "kernelspec": {
   "display_name": "Python 3 (ipykernel)",
   "language": "python",
   "name": "python3"
  },
  "language_info": {
   "codemirror_mode": {
    "name": "ipython",
    "version": 3
   },
   "file_extension": ".py",
   "mimetype": "text/x-python",
   "name": "python",
   "nbconvert_exporter": "python",
   "pygments_lexer": "ipython3",
   "version": "3.9.7"
  }
 },
 "nbformat": 4,
 "nbformat_minor": 5
}
